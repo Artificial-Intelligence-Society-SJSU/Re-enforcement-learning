{
 "cells": [
  {
   "cell_type": "code",
   "execution_count": 1,
   "metadata": {},
   "outputs": [],
   "source": [
    "from gym.envs.algorithmic import algorithmic_env\n",
    "\n",
    "class CopyEnv(algorithmic_env.TapeAlgorithmicEnv):\n",
    "    def __init__(self, base=5, chars=True):\n",
    "        super(CopyEnv, self).__init__(base=base, chars=chars)\n",
    "\n",
    "    def target_from_input_data(self, input_data):\n",
    "        return input_data"
   ]
  },
  {
   "cell_type": "code",
   "execution_count": null,
   "metadata": {},
   "outputs": [],
   "source": []
  }
 ],
 "metadata": {
  "kernelspec": {
   "display_name": "Python 3",
   "language": "python",
   "name": "python3"
  },
  "language_info": {
   "codemirror_mode": {
    "name": "ipython",
    "version": 3
   },
   "file_extension": ".py",
   "mimetype": "text/x-python",
   "name": "python",
   "nbconvert_exporter": "python",
   "pygments_lexer": "ipython3",
   "version": "3.5.2"
  }
 },
 "nbformat": 4,
 "nbformat_minor": 2
}
